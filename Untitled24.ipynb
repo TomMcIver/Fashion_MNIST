{
  "cells": [
    {
      "cell_type": "markdown",
      "metadata": {
        "id": "view-in-github",
        "colab_type": "text"
      },
      "source": [
        "<a href=\"https://colab.research.google.com/github/TomMcIver/Fashion_MNIST/blob/main/Untitled24.ipynb\" target=\"_parent\"><img src=\"https://colab.research.google.com/assets/colab-badge.svg\" alt=\"Open In Colab\"/></a>"
      ]
    },
    {
      "cell_type": "code",
      "execution_count": 1,
      "metadata": {
        "colab": {
          "base_uri": "https://localhost:8080/"
        },
        "id": "e4vF1aEOJQ-8",
        "outputId": "f9119135-c759-45e3-ac4e-36ac7de53128"
      },
      "outputs": [
        {
          "output_type": "stream",
          "name": "stdout",
          "text": [
            "TensorFlow version: 2.17.1\n"
          ]
        }
      ],
      "source": [
        "import tensorflow as tf\n",
        "from tensorflow.keras import layers, models\n",
        "from tensorflow.keras.models import Model\n",
        "from tensorflow.keras.layers import Input\n",
        "from tensorflow.keras.preprocessing.image import ImageDataGenerator\n",
        "from tensorflow.keras.callbacks import EarlyStopping, ModelCheckpoint, TensorBoard, ReduceLROnPlateau\n",
        "\n",
        "import matplotlib.pyplot as plt\n",
        "import numpy as np\n",
        "import os\n",
        "from datetime import datetime\n",
        "\n",
        "from sklearn.model_selection import train_test_split\n",
        "from sklearn.metrics import confusion_matrix, classification_report\n",
        "from tensorflow.keras.datasets import fashion_mnist\n",
        "import seaborn as sns\n",
        "\n",
        "print(\"TensorFlow version:\", tf.__version__)\n"
      ]
    },
    {
      "cell_type": "code",
      "execution_count": 2,
      "metadata": {
        "colab": {
          "base_uri": "https://localhost:8080/"
        },
        "id": "2T1pL4zYJa0t",
        "outputId": "7b98cb0f-6922-4299-978a-3b53ad0c2eef"
      },
      "outputs": [
        {
          "output_type": "stream",
          "name": "stdout",
          "text": [
            "Downloading data from https://storage.googleapis.com/tensorflow/tf-keras-datasets/train-labels-idx1-ubyte.gz\n",
            "\u001b[1m29515/29515\u001b[0m \u001b[32m━━━━━━━━━━━━━━━━━━━━\u001b[0m\u001b[37m\u001b[0m \u001b[1m0s\u001b[0m 0us/step\n",
            "Downloading data from https://storage.googleapis.com/tensorflow/tf-keras-datasets/train-images-idx3-ubyte.gz\n",
            "\u001b[1m26421880/26421880\u001b[0m \u001b[32m━━━━━━━━━━━━━━━━━━━━\u001b[0m\u001b[37m\u001b[0m \u001b[1m2s\u001b[0m 0us/step\n",
            "Downloading data from https://storage.googleapis.com/tensorflow/tf-keras-datasets/t10k-labels-idx1-ubyte.gz\n",
            "\u001b[1m5148/5148\u001b[0m \u001b[32m━━━━━━━━━━━━━━━━━━━━\u001b[0m\u001b[37m\u001b[0m \u001b[1m0s\u001b[0m 0us/step\n",
            "Downloading data from https://storage.googleapis.com/tensorflow/tf-keras-datasets/t10k-images-idx3-ubyte.gz\n",
            "\u001b[1m4422102/4422102\u001b[0m \u001b[32m━━━━━━━━━━━━━━━━━━━━\u001b[0m\u001b[37m\u001b[0m \u001b[1m1s\u001b[0m 0us/step\n",
            "Training images shape: (60000, 28, 28)\n",
            "Training labels shape: (60000,)\n",
            "Test images shape: (10000, 28, 28)\n",
            "Test labels shape: (10000,)\n",
            "Training images reshaped: (60000, 28, 28, 1)\n",
            "Test images reshaped: (10000, 28, 28, 1)\n"
          ]
        }
      ],
      "source": [
        "\n",
        "(train_images, train_labels), (test_images, test_labels) = fashion_mnist.load_data()\n",
        "\n",
        "\n",
        "print(f\"Training images shape: {train_images.shape}\")\n",
        "print(f\"Training labels shape: {train_labels.shape}\")\n",
        "print(f\"Test images shape: {test_images.shape}\")\n",
        "print(f\"Test labels shape: {test_labels.shape}\")\n",
        "\n",
        "\n",
        "train_images = train_images.astype('float32') / 255.0\n",
        "test_images = test_images.astype('float32') / 255.0\n",
        "\n",
        "\n",
        "train_images = np.expand_dims(train_images, -1)\n",
        "test_images = np.expand_dims(test_images, -1)\n",
        "\n",
        "print(f\"Training images reshaped: {train_images.shape}\")\n",
        "print(f\"Test images reshaped: {test_images.shape}\")\n",
        "\n",
        "\n",
        "class_names = ['T-shirt/top', 'Trouser', 'Pullover', 'Dress', 'Coat',\n",
        "               'Sandal', 'Shirt', 'Sneaker', 'Bag', 'Ankle boot']\n"
      ]
    },
    {
      "cell_type": "code",
      "execution_count": 3,
      "metadata": {
        "colab": {
          "base_uri": "https://localhost:8080/"
        },
        "id": "o1UaY9bcJltC",
        "outputId": "fbca3ec8-213d-4f77-8d19-97ee0aae9b78"
      },
      "outputs": [
        {
          "output_type": "stream",
          "name": "stdout",
          "text": [
            "Training set shape: (48000, 28, 28, 1)\n",
            "Validation set shape: (12000, 28, 28, 1)\n",
            "Training labels shape: (48000,)\n",
            "Validation labels shape: (12000,)\n"
          ]
        }
      ],
      "source": [
        "train_images, val_images, train_labels, val_labels = train_test_split(\n",
        "    train_images, train_labels, test_size=0.2, random_state=42, stratify=train_labels\n",
        ")\n",
        "\n",
        "print(f\"Training set shape: {train_images.shape}\")\n",
        "print(f\"Validation set shape: {val_images.shape}\")\n",
        "print(f\"Training labels shape: {train_labels.shape}\")\n",
        "print(f\"Validation labels shape: {val_labels.shape}\")"
      ]
    },
    {
      "cell_type": "code",
      "execution_count": 4,
      "metadata": {
        "colab": {
          "base_uri": "https://localhost:8080/"
        },
        "id": "9rUyPPI2Mk7D",
        "outputId": "f7388605-b2e9-4ad6-e604-479893312a8f"
      },
      "outputs": [
        {
          "output_type": "stream",
          "name": "stdout",
          "text": [
            "Collecting keras-tuner\n",
            "  Downloading keras_tuner-1.4.7-py3-none-any.whl.metadata (5.4 kB)\n",
            "Requirement already satisfied: keras in /usr/local/lib/python3.11/dist-packages (from keras-tuner) (3.5.0)\n",
            "Requirement already satisfied: packaging in /usr/local/lib/python3.11/dist-packages (from keras-tuner) (24.2)\n",
            "Requirement already satisfied: requests in /usr/local/lib/python3.11/dist-packages (from keras-tuner) (2.32.3)\n",
            "Collecting kt-legacy (from keras-tuner)\n",
            "  Downloading kt_legacy-1.0.5-py3-none-any.whl.metadata (221 bytes)\n",
            "Requirement already satisfied: absl-py in /usr/local/lib/python3.11/dist-packages (from keras->keras-tuner) (1.4.0)\n",
            "Requirement already satisfied: numpy in /usr/local/lib/python3.11/dist-packages (from keras->keras-tuner) (1.26.4)\n",
            "Requirement already satisfied: rich in /usr/local/lib/python3.11/dist-packages (from keras->keras-tuner) (13.9.4)\n",
            "Requirement already satisfied: namex in /usr/local/lib/python3.11/dist-packages (from keras->keras-tuner) (0.0.8)\n",
            "Requirement already satisfied: h5py in /usr/local/lib/python3.11/dist-packages (from keras->keras-tuner) (3.12.1)\n",
            "Requirement already satisfied: optree in /usr/local/lib/python3.11/dist-packages (from keras->keras-tuner) (0.14.0)\n",
            "Requirement already satisfied: ml-dtypes in /usr/local/lib/python3.11/dist-packages (from keras->keras-tuner) (0.4.1)\n",
            "Requirement already satisfied: charset-normalizer<4,>=2 in /usr/local/lib/python3.11/dist-packages (from requests->keras-tuner) (3.4.1)\n",
            "Requirement already satisfied: idna<4,>=2.5 in /usr/local/lib/python3.11/dist-packages (from requests->keras-tuner) (3.10)\n",
            "Requirement already satisfied: urllib3<3,>=1.21.1 in /usr/local/lib/python3.11/dist-packages (from requests->keras-tuner) (2.3.0)\n",
            "Requirement already satisfied: certifi>=2017.4.17 in /usr/local/lib/python3.11/dist-packages (from requests->keras-tuner) (2024.12.14)\n",
            "Requirement already satisfied: typing-extensions>=4.5.0 in /usr/local/lib/python3.11/dist-packages (from optree->keras->keras-tuner) (4.12.2)\n",
            "Requirement already satisfied: markdown-it-py>=2.2.0 in /usr/local/lib/python3.11/dist-packages (from rich->keras->keras-tuner) (3.0.0)\n",
            "Requirement already satisfied: pygments<3.0.0,>=2.13.0 in /usr/local/lib/python3.11/dist-packages (from rich->keras->keras-tuner) (2.18.0)\n",
            "Requirement already satisfied: mdurl~=0.1 in /usr/local/lib/python3.11/dist-packages (from markdown-it-py>=2.2.0->rich->keras->keras-tuner) (0.1.2)\n",
            "Downloading keras_tuner-1.4.7-py3-none-any.whl (129 kB)\n",
            "\u001b[2K   \u001b[90m━━━━━━━━━━━━━━━━━━━━━━━━━━━━━━━━━━━━━━━━\u001b[0m \u001b[32m129.1/129.1 kB\u001b[0m \u001b[31m11.3 MB/s\u001b[0m eta \u001b[36m0:00:00\u001b[0m\n",
            "\u001b[?25hDownloading kt_legacy-1.0.5-py3-none-any.whl (9.6 kB)\n",
            "Installing collected packages: kt-legacy, keras-tuner\n",
            "Successfully installed keras-tuner-1.4.7 kt-legacy-1.0.5\n"
          ]
        }
      ],
      "source": [
        "\n",
        "!pip install keras-tuner --upgrade"
      ]
    },
    {
      "cell_type": "markdown",
      "metadata": {
        "id": "6zP5CfSnLDCV"
      },
      "source": [
        "# **CNN Arch**"
      ]
    },
    {
      "cell_type": "code",
      "source": [
        "%matplotlib inline\n",
        "import keras_tuner as kt\n",
        "import tensorflow as tf\n",
        "import numpy as np\n",
        "import matplotlib.pyplot as plt\n",
        "import seaborn as sns\n",
        "from tensorflow.keras import Input, Model, layers\n",
        "from tensorflow.keras.callbacks import EarlyStopping, ModelCheckpoint, ReduceLROnPlateau, TensorBoard\n",
        "from sklearn.metrics import classification_report, confusion_matrix"
      ],
      "metadata": {
        "id": "Jf-zfIs3Q6pm"
      },
      "execution_count": 5,
      "outputs": []
    },
    {
      "cell_type": "code",
      "source": [
        "class_names = ['T-shirt/top', 'Trouser', 'Pullover', 'Dress', 'Coat','Sandal', 'Shirt', 'Sneaker', 'Bag', 'Ankle boot']\n"
      ],
      "metadata": {
        "id": "gXW2HkS8Q7l0"
      },
      "execution_count": 6,
      "outputs": []
    },
    {
      "cell_type": "code",
      "source": [
        "class FashionHyperModel(kt.HyperModel):\n",
        "    def build(self, hp):\n",
        "        inputs = Input(shape=(28, 28, 1))\n",
        "        x = inputs\n",
        "        num_blocks = hp.Int('num_blocks', 2, 4)\n",
        "        conv_units = hp.Int('conv_units', 32, 128, step=32)\n",
        "        kernel_size = hp.Choice('kernel_size', [3, 5])\n",
        "        use_attention = hp.Boolean('attention')\n",
        "        dropout_rate = hp.Float('dropout', 0.1, 0.5, step=0.1)\n",
        "        self.batch_size = hp.Int('batch_size', 128, 512, step=128)\n",
        "        for i in range(num_blocks):\n",
        "            x = layers.Conv2D(\n",
        "                conv_units * (2**i),\n",
        "                kernel_size,\n",
        "                activation='relu',\n",
        "                padding='same',\n",
        "                kernel_regularizer=tf.keras.regularizers.l2(hp.Float('l2', 1e-5, 1e-3))\n",
        "            )(x)\n",
        "            x = layers.BatchNormalization()(x)\n",
        "            if use_attention:\n",
        "                attention = layers.GlobalAveragePooling2D()(x)\n",
        "                attention = layers.Dense(conv_units//4, activation='relu')(attention)\n",
        "                attention = layers.Dense(x.shape[-1], activation='sigmoid')(attention)\n",
        "                x = layers.Multiply()([x, attention])\n",
        "            x = layers.MaxPooling2D(2)(x)\n",
        "            x = layers.Dropout(dropout_rate)(x)\n",
        "        x = layers.Conv2D(\n",
        "            hp.Int('viz_filters', 32, 128, step=32),\n",
        "            (3,3),\n",
        "            activation='relu',\n",
        "            padding='same',\n",
        "            name='feature_maps'\n",
        "        )(x)\n",
        "        x = layers.GlobalAveragePooling2D()(x)\n",
        "        x = layers.Dense(\n",
        "            hp.Int('dense_units', 128, 512, step=128),\n",
        "            activation='relu'\n",
        "        )(x)\n",
        "        x = layers.Dropout(dropout_rate)(x)\n",
        "        outputs = layers.Dense(10, activation='softmax')(x)\n",
        "        model = Model(inputs, outputs)\n",
        "        model.compile(\n",
        "            optimizer=tf.keras.optimizers.get(\n",
        "                hp.Choice('optimizer', ['adam', 'rmsprop', 'nadam'])\n",
        "            ),\n",
        "            loss='sparse_categorical_crossentropy',\n",
        "            metrics=['accuracy']\n",
        "        )\n",
        "        return model\n",
        "\n",
        "    def fit(self, hp, model, *args, **kwargs):\n",
        "        return model.fit(\n",
        "            *args,\n",
        "            batch_size=self.batch_size,\n",
        "            **kwargs\n",
        "        )\n"
      ],
      "metadata": {
        "id": "2Xqh7pckRCvc"
      },
      "execution_count": 7,
      "outputs": []
    },
    {
      "cell_type": "code",
      "source": [
        "tuner = kt.BayesianOptimization(\n",
        "    FashionHyperModel(),\n",
        "    objective='val_accuracy',\n",
        "    max_trials=30,\n",
        "    executions_per_trial=1,\n",
        "    directory='fashion_tuning',\n",
        "    project_name='fashion_mnist_v8',\n",
        "    overwrite=True\n",
        ")\n"
      ],
      "metadata": {
        "id": "wJtClgqAJzn7"
      },
      "execution_count": 8,
      "outputs": []
    },
    {
      "cell_type": "code",
      "source": [
        "tuner.search(\n",
        "    train_images, train_labels,\n",
        "    validation_data=(val_images, val_labels),\n",
        "    epochs=50,\n",
        "    callbacks=[\n",
        "        EarlyStopping(patience=5, restore_best_weights=True),\n",
        "        ModelCheckpoint('best_model.keras', save_best_only=True),\n",
        "        TensorBoard(log_dir='logs/hparam_tuning')\n",
        "    ],\n",
        "    verbose=2\n",
        ")\n"
      ],
      "metadata": {
        "colab": {
          "base_uri": "https://localhost:8080/"
        },
        "id": "brqkbRCrJ6Bp",
        "outputId": "1c13a3f6-5ced-45dd-936a-f40f22fae5bb"
      },
      "execution_count": 9,
      "outputs": [
        {
          "output_type": "stream",
          "name": "stdout",
          "text": [
            "Trial 30 Complete [00h 01m 00s]\n",
            "val_accuracy: 0.9025833606719971\n",
            "\n",
            "Best val_accuracy So Far: 0.9361666440963745\n",
            "Total elapsed time: 01h 35m 34s\n"
          ]
        }
      ]
    },
    {
      "cell_type": "code",
      "source": [
        "best_hps = tuner.get_best_hyperparameters()[0]\n",
        "model = tuner.hypermodel.build(best_hps)\n",
        "history = model.fit(\n",
        "    train_images, train_labels,\n",
        "    epochs=50,\n",
        "    validation_data=(val_images, val_labels),\n",
        "    batch_size=best_hps.get('batch_size'),\n",
        "    callbacks=[\n",
        "        EarlyStopping(patience=5, restore_best_weights=True),\n",
        "        ModelCheckpoint('best_model.keras', save_best_only=True)\n",
        "    ],\n",
        "    verbose=2\n",
        ")\n"
      ],
      "metadata": {
        "colab": {
          "base_uri": "https://localhost:8080/"
        },
        "id": "Cp-dF_QBJ74l",
        "outputId": "26ef3190-72a7-4031-d3a8-fd4a498b73c6"
      },
      "execution_count": 10,
      "outputs": [
        {
          "output_type": "stream",
          "name": "stdout",
          "text": [
            "Epoch 1/50\n",
            "94/94 - 35s - 371ms/step - accuracy: 0.7836 - loss: 1.1627 - val_accuracy: 0.1011 - val_loss: 2.6977\n",
            "Epoch 2/50\n",
            "94/94 - 13s - 137ms/step - accuracy: 0.8851 - loss: 0.6730 - val_accuracy: 0.2002 - val_loss: 2.5271\n",
            "Epoch 3/50\n",
            "94/94 - 21s - 219ms/step - accuracy: 0.8996 - loss: 0.5848 - val_accuracy: 0.2248 - val_loss: 2.4049\n",
            "Epoch 4/50\n",
            "94/94 - 13s - 142ms/step - accuracy: 0.9046 - loss: 0.5514 - val_accuracy: 0.4948 - val_loss: 1.9137\n",
            "Epoch 5/50\n",
            "94/94 - 13s - 135ms/step - accuracy: 0.9129 - loss: 0.5145 - val_accuracy: 0.7330 - val_loss: 1.1039\n",
            "Epoch 6/50\n",
            "94/94 - 21s - 223ms/step - accuracy: 0.9142 - loss: 0.5090 - val_accuracy: 0.8908 - val_loss: 0.5934\n",
            "Epoch 7/50\n",
            "94/94 - 20s - 214ms/step - accuracy: 0.9163 - loss: 0.4937 - val_accuracy: 0.8919 - val_loss: 0.5625\n",
            "Epoch 8/50\n",
            "94/94 - 21s - 224ms/step - accuracy: 0.9173 - loss: 0.4954 - val_accuracy: 0.9178 - val_loss: 0.4936\n",
            "Epoch 9/50\n",
            "94/94 - 20s - 210ms/step - accuracy: 0.9201 - loss: 0.4845 - val_accuracy: 0.9122 - val_loss: 0.4930\n",
            "Epoch 10/50\n",
            "94/94 - 21s - 223ms/step - accuracy: 0.9222 - loss: 0.4636 - val_accuracy: 0.9227 - val_loss: 0.4657\n",
            "Epoch 11/50\n",
            "94/94 - 20s - 208ms/step - accuracy: 0.9252 - loss: 0.4565 - val_accuracy: 0.9218 - val_loss: 0.4717\n",
            "Epoch 12/50\n",
            "94/94 - 20s - 218ms/step - accuracy: 0.9256 - loss: 0.4469 - val_accuracy: 0.9165 - val_loss: 0.4852\n",
            "Epoch 13/50\n",
            "94/94 - 20s - 217ms/step - accuracy: 0.9250 - loss: 0.4473 - val_accuracy: 0.9153 - val_loss: 0.4806\n",
            "Epoch 14/50\n",
            "94/94 - 13s - 136ms/step - accuracy: 0.9256 - loss: 0.4444 - val_accuracy: 0.9206 - val_loss: 0.4568\n",
            "Epoch 15/50\n",
            "94/94 - 21s - 223ms/step - accuracy: 0.9259 - loss: 0.4404 - val_accuracy: 0.9314 - val_loss: 0.4328\n",
            "Epoch 16/50\n",
            "94/94 - 20s - 213ms/step - accuracy: 0.9302 - loss: 0.4251 - val_accuracy: 0.9172 - val_loss: 0.4628\n",
            "Epoch 17/50\n",
            "94/94 - 20s - 213ms/step - accuracy: 0.9311 - loss: 0.4267 - val_accuracy: 0.9088 - val_loss: 0.5088\n",
            "Epoch 18/50\n",
            "94/94 - 21s - 223ms/step - accuracy: 0.9291 - loss: 0.4366 - val_accuracy: 0.9235 - val_loss: 0.4524\n",
            "Epoch 19/50\n",
            "94/94 - 20s - 217ms/step - accuracy: 0.9307 - loss: 0.4224 - val_accuracy: 0.9027 - val_loss: 0.5036\n",
            "Epoch 20/50\n",
            "94/94 - 21s - 224ms/step - accuracy: 0.9321 - loss: 0.4178 - val_accuracy: 0.9279 - val_loss: 0.4277\n",
            "Epoch 21/50\n",
            "94/94 - 12s - 131ms/step - accuracy: 0.9310 - loss: 0.4134 - val_accuracy: 0.9264 - val_loss: 0.4380\n",
            "Epoch 22/50\n",
            "94/94 - 20s - 216ms/step - accuracy: 0.9322 - loss: 0.4152 - val_accuracy: 0.9199 - val_loss: 0.4523\n",
            "Epoch 23/50\n",
            "94/94 - 13s - 136ms/step - accuracy: 0.9338 - loss: 0.4082 - val_accuracy: 0.9298 - val_loss: 0.4348\n",
            "Epoch 24/50\n",
            "94/94 - 20s - 217ms/step - accuracy: 0.9331 - loss: 0.4088 - val_accuracy: 0.9283 - val_loss: 0.4394\n",
            "Epoch 25/50\n",
            "94/94 - 21s - 218ms/step - accuracy: 0.9340 - loss: 0.4033 - val_accuracy: 0.9231 - val_loss: 0.4360\n"
          ]
        }
      ]
    },
    {
      "cell_type": "code",
      "source": [
        "print(f\"\"\"\n",
        "Optimal Hyperparameters:\n",
        "- Number of Blocks: {best_hps.get('num_blocks')}\n",
        "- Conv Units Base: {best_hps.get('conv_units')}\n",
        "- Kernel Size: {best_hps.get('kernel_size')}\n",
        "- Attention Mechanism: {best_hps.get('attention')}\n",
        "- Batch Size: {best_hps.get('batch_size')}\n",
        "- Optimizer: {best_hps.get('optimizer')}\n",
        "- Dropout Rate: {best_hps.get('dropout')}\n",
        "\"\"\")\n"
      ],
      "metadata": {
        "colab": {
          "base_uri": "https://localhost:8080/"
        },
        "id": "WB1n8dC3J9qZ",
        "outputId": "44022133-82eb-4665-e530-12a7e57e3aa9"
      },
      "execution_count": 11,
      "outputs": [
        {
          "output_type": "stream",
          "name": "stdout",
          "text": [
            "\n",
            "Optimal Hyperparameters:\n",
            "- Number of Blocks: 4\n",
            "- Conv Units Base: 128\n",
            "- Kernel Size: 3\n",
            "- Attention Mechanism: True\n",
            "- Batch Size: 512\n",
            "- Optimizer: adam\n",
            "- Dropout Rate: 0.30000000000000004\n",
            "\n"
          ]
        }
      ]
    }
  ],
  "metadata": {
    "colab": {
      "provenance": [],
      "gpuType": "T4",
      "authorship_tag": "ABX9TyNOk09vKxtiaEDjCUozcgi4",
      "include_colab_link": true
    },
    "kernelspec": {
      "display_name": "Python 3",
      "name": "python3"
    },
    "language_info": {
      "name": "python"
    },
    "accelerator": "GPU"
  },
  "nbformat": 4,
  "nbformat_minor": 0
}